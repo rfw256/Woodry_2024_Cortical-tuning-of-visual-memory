{
 "cells": [
  {
   "cell_type": "code",
   "execution_count": 1,
   "metadata": {},
   "outputs": [],
   "source": [
    "import numpy as np\n",
    "import pandas as pd\n",
    "import matplotlib.pyplot as plt\n",
    "from interstellar import *\n",
    "import warnings\n",
    "\n",
    "warnings.filterwarnings('ignore')\n",
    "wlsubjects = [114, 115, 127, 135, 136, 139, 141, 142]\n",
    "\n",
    "# Set path to dataframe directory\n",
    "df_dir = \"../data/dataframes/\"\n",
    "\n",
    "roi_labels = [\"V1\", \"V2\", \"V3\", \"V4\", \"V3ab\", \"IPS0\", \"LO1\"]"
   ]
  },
  {
   "cell_type": "markdown",
   "metadata": {},
   "source": [
    "## 1D Polar angle activation profiles"
   ]
  },
  {
   "cell_type": "code",
   "execution_count": 2,
   "metadata": {},
   "outputs": [],
   "source": [
    "# Load fits\n",
    "suffix = 'target-aligned_V1-LO1'\n",
    "\n",
    "vm_fname = os.path.join(df_dir, \"interstellar_vonmises_fits_%s.tsv\" % suffix)\n",
    "boot_name = os.path.join(df_dir, \"parf_params_boots_%s.tsv\" % suffix)\n",
    "norm_name = os.path.join(df_dir, \"interstellar_norm.tsv\")\n",
    "\n",
    " \n",
    "vm_fits = pd.read_csv(vm_fname, sep = '\\t', index_col = 0)\n",
    "boot_fits = pd.read_csv(boot_name, sep = '\\t', index_col = 0)\n",
    "interstellar_norm = pd.read_csv(norm_name, sep = '\\t', index_col = 0)\n"
   ]
  },
  {
   "cell_type": "code",
   "execution_count": 3,
   "metadata": {},
   "outputs": [],
   "source": [
    "group1 = [1.0, 2.0, 3.0]\n",
    "\n",
    "evc = boot_fits.query(\"@group1 in roi\")\n",
    "lvc = boot_fits.query(\"@group1 not in roi\")\n",
    "\n",
    "def boot_compute(data, y_var, y_val, boot_colname, conds = [], method = 'subtract', groupby = [], \n",
    "                 plot = False):\n",
    "    cond1 = conds[0]\n",
    "    cond2 = conds[1]\n",
    "\n",
    "    data = data.groupby(groupby + [boot_colname]).mean()\n",
    "\n",
    "    cond1_values = data.query(\"%s == @cond1\" % (y_var))[y_val].values\n",
    "    cond2_values = data.query(\"%s == @cond2\" % (y_var))[y_val].values\n",
    "\n",
    "    if method == 'subtract':\n",
    "        vals = cond1_values - cond2_values\n",
    "    elif method == 'ratio':\n",
    "        vals = cond1_values / cond2_values\n",
    "\n",
    "    if plot:\n",
    "        plt.hist(vals, bins = 30)\n",
    "\n",
    "    return vals\n",
    "\n",
    "\n",
    "def regression(data, x_var, y_var):\n",
    "    y = data[y_var].values\n",
    "    x = data[x_var].values\n",
    "    y_ = y.mean()\n",
    "    x_ = x.mean()\n",
    "\n",
    "    Y = y - y_\n",
    "    X = x - x_\n",
    "\n",
    "    m = (Y.T @ X) / (X.T @ X)\n",
    "    b = y_ - m*x_\n",
    "\n",
    "    y_hat = m*x + b\n",
    "    r_sq = 1 - np.sum(np.square(y_hat - y)) / np.sum(np.square(y - y_))\n",
    "\n",
    "    return m, b, r_sq\n"
   ]
  },
  {
   "cell_type": "markdown",
   "metadata": {},
   "source": [
    "### Recode groups"
   ]
  },
  {
   "cell_type": "code",
   "execution_count": 39,
   "metadata": {},
   "outputs": [],
   "source": [
    "boot_fits['roi_label'] = [roi_labels[int(roi-1)] for roi in boot_fits.roi.values]\n",
    "roi_codes = {'V1': 1,\n",
    "              'V2': 2,\n",
    "              'V3': 3,\n",
    "              'V4': 4,\n",
    "              'LO1': 4,\n",
    "              'V3ab': 4,\n",
    "              'IPS0': 5}\n",
    "boot_fits['roi_codes'] = [roi_codes[roi_label] for roi_label in boot_fits.roi_label.values]"
   ]
  },
  {
   "cell_type": "code",
   "execution_count": 40,
   "metadata": {},
   "outputs": [
    {
     "name": "stdout",
     "output_type": "stream",
     "text": [
      "ltm \t\t13.2 \t[4.1, 18.7]\n",
      "perception \t20.9 \t[17.9, 23.9]\n",
      "wm \t\t14.0 \t[10.1, 16.9]\n"
     ]
    }
   ],
   "source": [
    "groups = boot_fits.groupby(['task', 'n_boot'])\n",
    "rows = []\n",
    "for key, group in groups:\n",
    "    m, b, rsq = regression(group, 'roi_codes', 'fwhm')\n",
    "    rows.append([*key, m, b, rsq])\n",
    "\n",
    "boot_slopes = pd.DataFrame(data = rows, columns=['task', 'n_boot', 'slope', 'intercept', 'r2'])\n",
    "\n",
    "for task, group in boot_slopes.groupby(\"task\"):\n",
    "    slope_mean = group.slope.mean()\n",
    "    CI = (np.quantile(group.slope.values, [0.025, 0.975]))\n",
    "    \n",
    "    if task!='perception':\n",
    "        print(task, '\\t\\t%0.01f' % slope_mean, '\\t[%0.01f, %0.01f]' % (CI[0], CI[1]))\n",
    "    else:\n",
    "        print(task, '\\t%0.01f' % slope_mean, '\\t[%0.01f, %0.01f]' % (CI[0], CI[1]))\n",
    "\n"
   ]
  },
  {
   "cell_type": "code",
   "execution_count": 41,
   "metadata": {},
   "outputs": [],
   "source": [
    "task_groups = {'perception': 'perception',\n",
    "              'ltm': 'memory',\n",
    "              'wm': 'memory'}\n",
    "roi_groups = {'V1': 'V1-V3',\n",
    "              'V2': 'V1-V3',\n",
    "              'V3': 'V1-V3',\n",
    "              'V4': 'V4-IPS0',\n",
    "              'LO1': 'V4-IPS0',\n",
    "              'V3ab': 'V4-IPS0',\n",
    "              'IPS0': 'V4-IPS0'}\n",
    "\n",
    "boot_fits['task_group'] = [task_groups[str(task)] for task in boot_fits.task.values]\n",
    "boot_fits['roi_group'] = [roi_groups[str(roi)] for roi in boot_fits.roi_label.values]"
   ]
  },
  {
   "cell_type": "code",
   "execution_count": 45,
   "metadata": {},
   "outputs": [
    {
     "name": "stdout",
     "output_type": "stream",
     "text": [
      "memory \t\t13.6 \t[8.3, 17.1]\n",
      "perception \t20.9 \t[17.9, 23.9]\n"
     ]
    }
   ],
   "source": [
    "groups = boot_fits.groupby(['task_group', 'n_boot'])\n",
    "rows = []\n",
    "for key, group in groups:\n",
    "    group = group.groupby(['roi_label', 'roi_group', 'task_group'], as_index=False).mean()\n",
    "    \n",
    "    m, b, rsq = regression(group, 'roi_codes', 'fwhm')\n",
    "    rows.append([*key, m, b, rsq])\n",
    "\n",
    "boot_slopes = pd.DataFrame(data = rows, columns=['task_group', 'n_boot', 'slope', 'intercept', 'r2'])\n",
    "\n",
    "for task, group in boot_slopes.groupby(\"task_group\"):\n",
    "    slope_mean = group.slope.mean()\n",
    "    CI = (np.quantile(group.slope.values, [0.025, 0.975]))\n",
    "    \n",
    "    if task!='perception':\n",
    "        print(task, '\\t\\t%0.01f' % slope_mean, '\\t[%0.01f, %0.01f]' % (CI[0], CI[1]))\n",
    "    else:\n",
    "        print(task, '\\t%0.01f' % slope_mean, '\\t[%0.01f, %0.01f]' % (CI[0], CI[1]))"
   ]
  },
  {
   "cell_type": "code",
   "execution_count": 54,
   "metadata": {},
   "outputs": [
    {
     "name": "stdout",
     "output_type": "stream",
     "text": [
      "diff = 7.3, CI [3.9, 13.5]\n"
     ]
    },
    {
     "data": {
      "image/png": "[encoded data removed]",
      "text/plain": [
       "<Figure size 432x288 with 1 Axes>"
      ]
     },
     "metadata": {
      "needs_background": "light"
     },
     "output_type": "display_data"
    }
   ],
   "source": [
    "vals = boot_compute(boot_slopes, \"task_group\", \"slope\", conds = ['perception', 'memory'], boot_colname = 'n_boot',\n",
    "                    method = 'subtract', groupby = ['task_group'], plot = True)\n",
    "\n",
    "slope_mean_diff = vals.mean()\n",
    "slope_CI_diff = (np.quantile(vals, [0.025, 0.975]))\n",
    "\n",
    "print(\"diff = %0.01f, CI [%0.01f, %0.01f]\" % (slope_mean_diff, slope_CI_diff[0], slope_CI_diff[1]))"
   ]
  },
  {
   "cell_type": "code",
   "execution_count": 69,
   "metadata": {},
   "outputs": [
    {
     "name": "stdout",
     "output_type": "stream",
     "text": [
      "V1-V3 \t\t19.0 \t[13.1, 28.0]\n",
      "V4-IPS0 \t2.8 \t[-3.6, 8.3]\n"
     ]
    }
   ],
   "source": [
    "for i, group in boot_fits.groupby(\"roi_group\"):\n",
    "    vals = boot_compute(group, \"task_group\", \"fwhm\", conds = [\"memory\", \"perception\"], boot_colname = 'n_boot', \n",
    "                        method = 'subtract', groupby=['task_group'], plot=False)\n",
    "        \n",
    "    CI = np.quantile(vals, [0.025, 0.975])\n",
    "    mu = vals.mean()\n",
    "    if i=='V1-V3':\n",
    "        print(i, '\\t\\t%0.01f' % mu, '\\t[%0.01f, %0.01f]' % (CI[0], CI[1]))\n",
    "    else:\n",
    "        print(i, '\\t%0.01f' % mu, '\\t[%0.01f, %0.01f]' % (CI[0], CI[1]))"
   ]
  },
  {
   "cell_type": "code",
   "execution_count": 58,
   "metadata": {},
   "outputs": [
    {
     "name": "stdout",
     "output_type": "stream",
     "text": [
      "IPS0 3.35 [-19.23, 22.63]\n",
      "LO1 -6.86 [-24.29, 5.70]\n",
      "V1 30.70 [14.22, 59.35]\n",
      "V2 16.85 [10.03, 22.90]\n",
      "V3 9.56 [4.45, 14.88]\n",
      "V3ab 15.67 [9.12, 23.75]\n",
      "V4 -1.07 [-10.00, 8.65]\n"
     ]
    }
   ],
   "source": [
    "for key, group in boot_fits.groupby(['roi_label']):\n",
    "    \n",
    "    vals = boot_compute(group, \"task_group\", \"fwhm\", conds = [\"memory\", \"perception\"], boot_colname = 'n_boot', \n",
    "                     method = 'subtract', groupby=['task_group'])\n",
    "    \n",
    "    CI = np.quantile(vals, [0.025, 0.975])\n",
    "    mu = vals.mean()\n",
    "\n",
    "    print(key, '%0.02f' % mu, '[%0.02f, %0.02f]' % (CI[0], CI[1]))\n",
    "    "
   ]
  },
  {
   "cell_type": "markdown",
   "metadata": {},
   "source": [
    "# 2D polar angle activation profiles"
   ]
  },
  {
   "cell_type": "code",
   "execution_count": 72,
   "metadata": {},
   "outputs": [],
   "source": [
    "B_norm = pd.read_csv(os.path.join(df_dir, \"boot_norm.tsv\"), sep = '\\t', index_col=0)\n",
    "\n",
    "roi_groups = {'V1': 'V1-V3',\n",
    "              'V2': 'V1-V3',\n",
    "              'V3': 'V1-V3',\n",
    "              'V4': 'V4-IPS0',\n",
    "              'LO1': 'V4-IPS0',\n",
    "              'V3ab': 'V4-IPS0',\n",
    "              'IPS0': 'V4-IPS0'}\n",
    "\n",
    "B_norm['roi_group'] = [roi_groups[str(roi)] for roi in B_norm.roi.values]\n"
   ]
  },
  {
   "cell_type": "code",
   "execution_count": 75,
   "metadata": {},
   "outputs": [
    {
     "name": "stdout",
     "output_type": "stream",
     "text": [
      "V1-V3 0.60 [-1.20, 3.33]\n",
      "V4-IPS0 1.55 [-1.17, 8.41]\n"
     ]
    }
   ],
   "source": [
    "tasks = ['perception', 'ltm']\n",
    "\n",
    "\n",
    "data = B_norm.query(\"@tasks in task\")\n",
    "valid_boot_ids = np.arange(500)\n",
    "\n",
    "for key, data in B_norm.groupby(['roi_group']):\n",
    "    valid_boot_ids = np.arange(500)\n",
    "    for _, group in data.groupby(['task']):\n",
    "        valid_boot_ids = np.intersect1d(valid_boot_ids, group.n_boot.unique())\n",
    "    \n",
    "    data = data.query(\"@valid_boot_ids in n_boot\")\n",
    "\n",
    "    vals = boot_compute(data = data,\n",
    "             y_var = 'task', y_val = 'x0', boot_colname= 'n_boot', \n",
    "             conds = ['ltm', 'perception'],\n",
    "             method = 'subtract', groupby = ['task', 'roi_group'], plot = False)\n",
    "\n",
    "    CI = np.quantile(vals, [0.025, 0.975])\n",
    "    mu = vals.mean()\n",
    "    p = (vals <= 0).mean()\n",
    "\n",
    "    print(key, '%0.02f' % mu, '[%0.02f, %0.02f]' % (CI[0], CI[1]))\n",
    "\n",
    "    "
   ]
  },
  {
   "cell_type": "markdown",
   "metadata": {},
   "source": [
    "# Saccade splits"
   ]
  },
  {
   "cell_type": "code",
   "execution_count": 183,
   "metadata": {},
   "outputs": [],
   "source": [
    "p_fname = \"interstellar_tertile-sacc_params.tsv\"\n",
    "p_fname = os.path.join(df_dir, p_fname)\n",
    "b_fname = \"interstellar_tertile-sacc_boot_params.tsv\"\n",
    "b_fname = os.path.join(df_dir, b_fname)\n",
    "\n",
    "P = pd.read_csv(p_fname, sep = '\\t', index_col = 0)\n",
    "B = pd.read_csv(b_fname, sep = '\\t', index_col = 0)"
   ]
  },
  {
   "cell_type": "code",
   "execution_count": 198,
   "metadata": {},
   "outputs": [
    {
     "name": "stdout",
     "output_type": "stream",
     "text": [
      "ltm -19.48 [-29.79, -8.21] 0.012\n",
      "perception -2.07 [-4.69, 0.50] 0.056\n",
      "wm -0.35 [-8.76, 10.33] 0.448\n"
     ]
    }
   ],
   "source": [
    "B_allrois = B.groupby(['task', 'tertile', 'n_boot']).mean()\n",
    "\n",
    "for key, group in B_allrois.groupby(['task']):\n",
    "    vals = boot_compute(data = group,\n",
    "                y_var = 'tertile', y_val = 'loc_deg', boot_colname= 'n_boot', \n",
    "                conds = ['clock', 'counter'],\n",
    "                method = 'subtract', groupby = ['tertile'], plot = False)\n",
    "\n",
    "    CI = np.quantile(vals, [0.025, 0.975])\n",
    "    mu = vals.mean()\n",
    "    p = (vals >= 0).mean()\n",
    "\n",
    "    print(key, '%0.02f' % mu, '[%0.02f, %0.02f]' % (CI[0], CI[1]), p)\n"
   ]
  },
  {
   "cell_type": "code",
   "execution_count": 201,
   "metadata": {},
   "outputs": [
    {
     "name": "stdout",
     "output_type": "stream",
     "text": [
      "('ltm', 'IPS0') -43.31 [-61.06, -7.97] 0.008\n",
      "('ltm', 'LO1') -11.79 [-50.38, 11.02] 0.208\n",
      "('ltm', 'V1') -18.81 [-66.53, 54.33] 0.134\n",
      "('ltm', 'V2') -5.39 [-17.99, 8.42] 0.212\n",
      "('ltm', 'V3') -18.09 [-27.72, -3.98] 0.01\n",
      "('ltm', 'V3ab') -10.93 [-26.30, 2.54] 0.056\n",
      "('ltm', 'V4') -28.06 [-64.88, -0.97] 0.024\n",
      "('perception', 'IPS0') 3.66 [-11.71, 20.35] 0.64\n",
      "('perception', 'LO1') -3.11 [-15.19, 15.05] 0.316\n",
      "('perception', 'V1') -6.01 [-10.01, -1.52] 0.004\n",
      "('perception', 'V2') 1.05 [-2.31, 3.73] 0.768\n",
      "('perception', 'V3') -3.55 [-6.18, -0.79] 0.0\n",
      "('perception', 'V3ab') -6.31 [-10.75, -2.45] 0.0\n",
      "('perception', 'V4') -0.21 [-5.27, 4.98] 0.474\n",
      "('wm', 'IPS0') 6.70 [-7.77, 25.41] 0.798\n",
      "('wm', 'LO1') 12.05 [-12.08, 49.78] 0.74\n",
      "('wm', 'V1') -10.65 [-20.28, 0.39] 0.032\n",
      "('wm', 'V2') 2.49 [-6.62, 13.43] 0.674\n",
      "('wm', 'V3') 3.85 [-8.44, 16.46] 0.72\n",
      "('wm', 'V3ab') -1.12 [-14.21, 12.39] 0.43\n",
      "('wm', 'V4') -15.79 [-34.62, 6.54] 0.076\n"
     ]
    }
   ],
   "source": [
    "for key, group in B.groupby(['task', 'roi_labels']):\n",
    "    vals = boot_compute(data = group,\n",
    "                y_var = 'tertile', y_val = 'loc_deg', boot_colname= 'n_boot', \n",
    "                conds = ['clock', 'counter'],\n",
    "                method = 'subtract', groupby = ['tertile', 'roi_labels'], plot = False)\n",
    "\n",
    "    CI = np.quantile(vals, [0.025, 0.975])\n",
    "    mu = vals.mean()\n",
    "    p = (vals >= 0).mean()\n",
    "\n",
    "    print(key, '%0.02f' % mu, '[%0.02f, %0.02f]' % (CI[0], CI[1]), p)"
   ]
  },
  {
   "cell_type": "markdown",
   "metadata": {},
   "source": [
    "# Near vs. Far spaced targets"
   ]
  },
  {
   "cell_type": "code",
   "execution_count": 229,
   "metadata": {},
   "outputs": [],
   "source": [
    "group = 'nearest_dist_bin'\n",
    "keys = ['near', 'far']\n",
    "tasks = ['perception', 'wm', 'ltm']\n",
    "\n",
    "P, B = [], []\n",
    "\n",
    "for key in keys:\n",
    "    params_fname = \"interstellar_%s-all_%s_params.tsv\" % (group, key)\n",
    "    boots_fname = \"interstellar_%s-all_%s_boot_params.tsv\" % (group, key)\n",
    "\n",
    "    p = pd.read_csv(os.path.join(df_dir, params_fname), sep = \"\\t\", index_col = 0)\n",
    "    b = pd.read_csv(os.path.join(df_dir, boots_fname), sep = \"\\t\", index_col = 0)\n",
    "    p[group] = key\n",
    "    b[group] = key\n",
    "    \n",
    "    P.append(p)\n",
    "    B.append(b)\n",
    "\n",
    "P = pd.concat(P)\n",
    "B = pd.concat(B)\n",
    "\n",
    "B['roi_labels'] = [roi_labels[int(l-1)] for l in B.roi.values]\n",
    "P['roi_labels'] = [roi_labels[int(l-1)] for l in P.roi.values]"
   ]
  },
  {
   "cell_type": "code",
   "execution_count": 230,
   "metadata": {},
   "outputs": [
    {
     "data": {
      "text/html": [
       "<div>\n",
       "<style scoped>\n",
       "    .dataframe tbody tr th:only-of-type {\n",
       "        vertical-align: middle;\n",
       "    }\n",
       "\n",
       "    .dataframe tbody tr th {\n",
       "        vertical-align: top;\n",
       "    }\n",
       "\n",
       "    .dataframe thead th {\n",
       "        text-align: right;\n",
       "    }\n",
       "</style>\n",
       "<table border=\"1\" class=\"dataframe\">\n",
       "  <thead>\n",
       "    <tr style=\"text-align: right;\">\n",
       "      <th></th>\n",
       "      <th></th>\n",
       "      <th></th>\n",
       "      <th>roi</th>\n",
       "      <th>loc</th>\n",
       "      <th>loc_deg</th>\n",
       "      <th>kappa1</th>\n",
       "      <th>scale1</th>\n",
       "      <th>kappa2</th>\n",
       "      <th>scale2</th>\n",
       "      <th>maxr</th>\n",
       "      <th>minr</th>\n",
       "      <th>amp</th>\n",
       "      <th>fwhm</th>\n",
       "    </tr>\n",
       "    <tr>\n",
       "      <th>task</th>\n",
       "      <th>nearest_dist_bin</th>\n",
       "      <th>n_boot</th>\n",
       "      <th></th>\n",
       "      <th></th>\n",
       "      <th></th>\n",
       "      <th></th>\n",
       "      <th></th>\n",
       "      <th></th>\n",
       "      <th></th>\n",
       "      <th></th>\n",
       "      <th></th>\n",
       "      <th></th>\n",
       "      <th></th>\n",
       "    </tr>\n",
       "  </thead>\n",
       "  <tbody>\n",
       "    <tr>\n",
       "      <th rowspan=\"5\" valign=\"top\">ltm</th>\n",
       "      <th rowspan=\"5\" valign=\"top\">far</th>\n",
       "      <th>0</th>\n",
       "      <td>2.5</td>\n",
       "      <td>-0.160246</td>\n",
       "      <td>-9.181432</td>\n",
       "      <td>1.918971</td>\n",
       "      <td>35.425690</td>\n",
       "      <td>0.672582</td>\n",
       "      <td>35.435571</td>\n",
       "      <td>0.247233</td>\n",
       "      <td>-0.104551</td>\n",
       "      <td>0.351784</td>\n",
       "      <td>104.507853</td>\n",
       "    </tr>\n",
       "    <tr>\n",
       "      <th>1</th>\n",
       "      <td>2.5</td>\n",
       "      <td>-0.014607</td>\n",
       "      <td>-0.836926</td>\n",
       "      <td>2.570370</td>\n",
       "      <td>32.818050</td>\n",
       "      <td>0.301443</td>\n",
       "      <td>34.567637</td>\n",
       "      <td>0.041093</td>\n",
       "      <td>-0.401777</td>\n",
       "      <td>0.442870</td>\n",
       "      <td>87.080555</td>\n",
       "    </tr>\n",
       "    <tr>\n",
       "      <th>2</th>\n",
       "      <td>2.5</td>\n",
       "      <td>0.019399</td>\n",
       "      <td>1.111478</td>\n",
       "      <td>1.393733</td>\n",
       "      <td>67.859431</td>\n",
       "      <td>0.730054</td>\n",
       "      <td>69.108306</td>\n",
       "      <td>0.071126</td>\n",
       "      <td>-0.300716</td>\n",
       "      <td>0.371842</td>\n",
       "      <td>84.295431</td>\n",
       "    </tr>\n",
       "    <tr>\n",
       "      <th>3</th>\n",
       "      <td>2.5</td>\n",
       "      <td>-0.163360</td>\n",
       "      <td>-9.359845</td>\n",
       "      <td>2.291876</td>\n",
       "      <td>607.230897</td>\n",
       "      <td>0.509223</td>\n",
       "      <td>607.709055</td>\n",
       "      <td>0.170449</td>\n",
       "      <td>-0.165828</td>\n",
       "      <td>0.336278</td>\n",
       "      <td>100.427271</td>\n",
       "    </tr>\n",
       "    <tr>\n",
       "      <th>4</th>\n",
       "      <td>2.5</td>\n",
       "      <td>-0.114273</td>\n",
       "      <td>-6.547346</td>\n",
       "      <td>1.155181</td>\n",
       "      <td>526.601817</td>\n",
       "      <td>0.397890</td>\n",
       "      <td>527.510916</td>\n",
       "      <td>0.035636</td>\n",
       "      <td>-0.223428</td>\n",
       "      <td>0.259064</td>\n",
       "      <td>110.215111</td>\n",
       "    </tr>\n",
       "    <tr>\n",
       "      <th>...</th>\n",
       "      <th>...</th>\n",
       "      <th>...</th>\n",
       "      <td>...</td>\n",
       "      <td>...</td>\n",
       "      <td>...</td>\n",
       "      <td>...</td>\n",
       "      <td>...</td>\n",
       "      <td>...</td>\n",
       "      <td>...</td>\n",
       "      <td>...</td>\n",
       "      <td>...</td>\n",
       "      <td>...</td>\n",
       "      <td>...</td>\n",
       "    </tr>\n",
       "    <tr>\n",
       "      <th rowspan=\"5\" valign=\"top\">wm</th>\n",
       "      <th rowspan=\"5\" valign=\"top\">near</th>\n",
       "      <th>495</th>\n",
       "      <td>2.5</td>\n",
       "      <td>-0.019857</td>\n",
       "      <td>-1.137697</td>\n",
       "      <td>3.096771</td>\n",
       "      <td>88.046656</td>\n",
       "      <td>1.205055</td>\n",
       "      <td>89.047171</td>\n",
       "      <td>0.061943</td>\n",
       "      <td>-0.253533</td>\n",
       "      <td>0.315476</td>\n",
       "      <td>63.509991</td>\n",
       "    </tr>\n",
       "    <tr>\n",
       "      <th>496</th>\n",
       "      <td>2.5</td>\n",
       "      <td>-0.084070</td>\n",
       "      <td>-4.816860</td>\n",
       "      <td>5.360340</td>\n",
       "      <td>96.129077</td>\n",
       "      <td>0.804456</td>\n",
       "      <td>97.033886</td>\n",
       "      <td>0.167921</td>\n",
       "      <td>-0.247637</td>\n",
       "      <td>0.415558</td>\n",
       "      <td>73.079062</td>\n",
       "    </tr>\n",
       "    <tr>\n",
       "      <th>497</th>\n",
       "      <td>2.5</td>\n",
       "      <td>-0.079508</td>\n",
       "      <td>-4.555462</td>\n",
       "      <td>1.065175</td>\n",
       "      <td>109.020967</td>\n",
       "      <td>0.906330</td>\n",
       "      <td>111.627994</td>\n",
       "      <td>-0.165228</td>\n",
       "      <td>-0.538249</td>\n",
       "      <td>0.373020</td>\n",
       "      <td>77.623671</td>\n",
       "    </tr>\n",
       "    <tr>\n",
       "      <th>498</th>\n",
       "      <td>2.5</td>\n",
       "      <td>-0.003521</td>\n",
       "      <td>-0.201748</td>\n",
       "      <td>1.621549</td>\n",
       "      <td>129.556285</td>\n",
       "      <td>1.002233</td>\n",
       "      <td>131.489280</td>\n",
       "      <td>-0.085543</td>\n",
       "      <td>-0.422962</td>\n",
       "      <td>0.337419</td>\n",
       "      <td>70.057178</td>\n",
       "    </tr>\n",
       "    <tr>\n",
       "      <th>499</th>\n",
       "      <td>2.5</td>\n",
       "      <td>-0.093340</td>\n",
       "      <td>-5.347973</td>\n",
       "      <td>2.050749</td>\n",
       "      <td>113.451597</td>\n",
       "      <td>0.731392</td>\n",
       "      <td>115.374157</td>\n",
       "      <td>-0.044661</td>\n",
       "      <td>-0.410224</td>\n",
       "      <td>0.365563</td>\n",
       "      <td>73.744199</td>\n",
       "    </tr>\n",
       "  </tbody>\n",
       "</table>\n",
       "<p>3000 rows × 11 columns</p>\n",
       "</div>"
      ],
      "text/plain": [
       "                              roi       loc   loc_deg    kappa1      scale1  \\\n",
       "task nearest_dist_bin n_boot                                                  \n",
       "ltm  far              0       2.5 -0.160246 -9.181432  1.918971   35.425690   \n",
       "                      1       2.5 -0.014607 -0.836926  2.570370   32.818050   \n",
       "                      2       2.5  0.019399  1.111478  1.393733   67.859431   \n",
       "                      3       2.5 -0.163360 -9.359845  2.291876  607.230897   \n",
       "                      4       2.5 -0.114273 -6.547346  1.155181  526.601817   \n",
       "...                           ...       ...       ...       ...         ...   \n",
       "wm   near             495     2.5 -0.019857 -1.137697  3.096771   88.046656   \n",
       "                      496     2.5 -0.084070 -4.816860  5.360340   96.129077   \n",
       "                      497     2.5 -0.079508 -4.555462  1.065175  109.020967   \n",
       "                      498     2.5 -0.003521 -0.201748  1.621549  129.556285   \n",
       "                      499     2.5 -0.093340 -5.347973  2.050749  113.451597   \n",
       "\n",
       "                                kappa2      scale2      maxr      minr  \\\n",
       "task nearest_dist_bin n_boot                                             \n",
       "ltm  far              0       0.672582   35.435571  0.247233 -0.104551   \n",
       "                      1       0.301443   34.567637  0.041093 -0.401777   \n",
       "                      2       0.730054   69.108306  0.071126 -0.300716   \n",
       "                      3       0.509223  607.709055  0.170449 -0.165828   \n",
       "                      4       0.397890  527.510916  0.035636 -0.223428   \n",
       "...                                ...         ...       ...       ...   \n",
       "wm   near             495     1.205055   89.047171  0.061943 -0.253533   \n",
       "                      496     0.804456   97.033886  0.167921 -0.247637   \n",
       "                      497     0.906330  111.627994 -0.165228 -0.538249   \n",
       "                      498     1.002233  131.489280 -0.085543 -0.422962   \n",
       "                      499     0.731392  115.374157 -0.044661 -0.410224   \n",
       "\n",
       "                                   amp        fwhm  \n",
       "task nearest_dist_bin n_boot                        \n",
       "ltm  far              0       0.351784  104.507853  \n",
       "                      1       0.442870   87.080555  \n",
       "                      2       0.371842   84.295431  \n",
       "                      3       0.336278  100.427271  \n",
       "                      4       0.259064  110.215111  \n",
       "...                                ...         ...  \n",
       "wm   near             495     0.315476   63.509991  \n",
       "                      496     0.415558   73.079062  \n",
       "                      497     0.373020   77.623671  \n",
       "                      498     0.337419   70.057178  \n",
       "                      499     0.365563   73.744199  \n",
       "\n",
       "[3000 rows x 11 columns]"
      ]
     },
     "execution_count": 230,
     "metadata": {},
     "output_type": "execute_result"
    }
   ],
   "source": [
    "B_allrois"
   ]
  },
  {
   "cell_type": "code",
   "execution_count": 231,
   "metadata": {},
   "outputs": [
    {
     "name": "stdout",
     "output_type": "stream",
     "text": [
      "ltm 0.68 [0.47, 0.97] 0.016\n",
      "perception 0.93 [0.82, 1.07] 0.15\n",
      "wm 1.06 [0.74, 1.71] 0.556\n"
     ]
    }
   ],
   "source": [
    "B_allrois = B.query(\"['V1', 'V2', 'V3', 'V4'] in roi_labels\").groupby(['task', 'nearest_dist_bin', 'n_boot']).mean()\n",
    "\n",
    "for key, group in B_allrois.groupby(['task']):\n",
    "    vals = boot_compute(data = group,\n",
    "                y_var = 'nearest_dist_bin', y_val = 'fwhm', boot_colname= 'n_boot', \n",
    "                conds = ['near', 'far'],\n",
    "                method = 'ratio', groupby = ['nearest_dist_bin'], plot = False)\n",
    "\n",
    "    CI = np.quantile(vals, [0.025, 0.975])\n",
    "    mu = vals.mean()\n",
    "    p = (vals >= 1).mean()\n",
    "\n",
    "    print(key, '%0.02f' % mu, '[%0.02f, %0.02f]' % (CI[0], CI[1]), p)\n"
   ]
  },
  {
   "cell_type": "code",
   "execution_count": 232,
   "metadata": {},
   "outputs": [
    {
     "name": "stdout",
     "output_type": "stream",
     "text": [
      "('ltm', 'IPS0') 1.20 [0.78, 1.82] 0.204\n",
      "('ltm', 'LO1') 0.96 [0.54, 1.82] 0.66\n",
      "('ltm', 'V1') 1.81 [0.46, 4.27] 0.212\n",
      "('ltm', 'V2') 1.94 [1.14, 3.45] 0.002\n",
      "('ltm', 'V3') 1.35 [0.81, 1.93] 0.068\n",
      "('ltm', 'V3ab') 1.01 [0.66, 1.46] 0.51\n",
      "('ltm', 'V4') 1.40 [0.59, 2.62] 0.21\n",
      "('perception', 'IPS0') 1.39 [0.96, 1.85] 0.054\n",
      "('perception', 'LO1') 0.99 [0.72, 1.43] 0.562\n",
      "('perception', 'V1') 1.16 [0.90, 1.44] 0.114\n",
      "('perception', 'V2') 0.90 [0.71, 1.14] 0.836\n",
      "('perception', 'V3') 1.14 [0.94, 1.39] 0.122\n",
      "('perception', 'V3ab') 0.92 [0.82, 1.02] 0.93\n",
      "('perception', 'V4') 1.12 [0.85, 1.39] 0.174\n",
      "('wm', 'IPS0') 0.69 [0.38, 1.12] 0.936\n",
      "('wm', 'LO1') 1.78 [0.59, 5.84] 0.1\n",
      "('wm', 'V1') 1.29 [0.28, 3.79] 0.362\n",
      "('wm', 'V2') 0.70 [0.45, 0.97] 0.988\n",
      "('wm', 'V3') 1.02 [0.82, 1.42] 0.54\n",
      "('wm', 'V3ab') 0.74 [0.51, 0.95] 0.986\n",
      "('wm', 'V4') 1.17 [0.84, 1.80] 0.23\n"
     ]
    }
   ],
   "source": [
    "for key, group in B.groupby(['task', 'roi_labels']):\n",
    "    vals = boot_compute(data = group,\n",
    "                y_var = 'nearest_dist_bin', y_val = 'fwhm', boot_colname= 'n_boot', \n",
    "                conds = ['far', 'near'],\n",
    "                method = 'ratio', groupby = ['nearest_dist_bin', 'roi_labels'], plot = False)\n",
    "\n",
    "    CI = np.quantile(vals, [0.025, 0.975])\n",
    "    mu = vals.mean()\n",
    "    p = (vals <= 1).mean()\n",
    "\n",
    "    print(key, '%0.02f' % mu, '[%0.02f, %0.02f]' % (CI[0], CI[1]), p)"
   ]
  },
  {
   "cell_type": "markdown",
   "metadata": {},
   "source": []
  }
 ],
 "metadata": {
  "kernelspec": {
   "display_name": "interstellar",
   "language": "python",
   "name": "python3"
  },
  "language_info": {
   "codemirror_mode": {
    "name": "ipython",
    "version": 3
   },
   "file_extension": ".py",
   "mimetype": "text/x-python",
   "name": "python",
   "nbconvert_exporter": "python",
   "pygments_lexer": "ipython3",
   "version": "3.10.4"
  }
 },
 "nbformat": 4,
 "nbformat_minor": 2
}
